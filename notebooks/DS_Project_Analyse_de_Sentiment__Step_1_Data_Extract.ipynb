{
 "cells": [
  {
   "cell_type": "markdown",
   "id": "eea04a3f",
   "metadata": {},
   "source": [
    "# Web Scraping - extraction des données"
   ]
  },
  {
   "cell_type": "code",
   "execution_count": null,
   "id": "c4c98a6b",
   "metadata": {},
   "outputs": [],
   "source": [
    "# Importation des librairies\n",
    "import requests\n",
    "from bs4 import BeautifulSoup\n",
    "import pandas as pd\n",
    "import re\n",
    "\n",
    "# Définition d'une fonction qui scrape toutes les pages d'une entreprise sur TrustPilot\n",
    "def scraping_commentaires(url):\n",
    "\n",
    "    # Récupération du contenu de la page de l' \"url\" passée en argument de la fonction\n",
    "    reponse = requests.get(url)\n",
    "    if reponse.status_code == 200:\n",
    "        \n",
    "        # Création de l'objet BeautifulSoup pour analyser le code HTML\n",
    "        soup = BeautifulSoup(reponse.text, 'lxml')\n",
    "        nbre_de_pages = soup.find('a', attrs = {'name' : 'pagination-button-next'}).find_previous().text.strip()\n",
    "\n",
    "        nom_pseudo = []\n",
    "        date_publication = []\n",
    "        note = []\n",
    "        titre = []\n",
    "        avis = []\n",
    "        date_experience = []\n",
    "        nbre_commentaires = []\n",
    "        pays = []\n",
    "\n",
    "        # Boucle sur les pages\n",
    "        for page in range(1, int(nbre_de_pages) + 1):\n",
    "\n",
    "            # Récupération du contenu de n-ième page\n",
    "            reponse = requests.get(url + '?page=' + str(page))\n",
    "            if reponse.status_code == 200:\n",
    "\n",
    "                # Création de l'objet BeautifulSoup pour analyser le code HTML\n",
    "                soup = BeautifulSoup(reponse.text, 'lxml')\n",
    "                commentaires = soup.find_all('div', class_='styles_reviewCardInner__EwDq2')\n",
    "            \n",
    "                # Boucle sur les commentaires d'une page\n",
    "                for commentaire in commentaires:\n",
    "        \n",
    "                    # Nom / Pseudo du client\n",
    "                    nom_pseudo_element = commentaire.find('span', class_='typography_heading-xxs__QKBS8 typography_appearance-default__AAY17')\n",
    "                    nom_pseudo.append(nom_pseudo_element.text.strip() if nom_pseudo_element else '')\n",
    "\n",
    "                    # Date de l'avis du client\n",
    "                    date_publication_element = commentaire.find('time')['datetime']\n",
    "                    date_publication.append(date_publication_element.strip() if date_publication_element else '')\n",
    "\n",
    "                    # Note liée à l'avis du client\n",
    "                    note_element = commentaire.find('div', class_='styles_reviewHeader__iU9Px')['data-service-review-rating']\n",
    "                    note.append(note_element.strip() if note_element else '')\n",
    "                 \n",
    "                    # Titre de l'avis du client\n",
    "                    titre_element = commentaire.find('h2', class_='typography_heading-s__f7029 typography_appearance-default__AAY17')\n",
    "                    titre.append(titre_element.text.strip() if titre_element else '')\n",
    "                \n",
    "                    # Contenu de l'avis du client\n",
    "                    avis_element = commentaire.find('p', class_='typography_body-l__KUYFJ typography_appearance-default__AAY17 typography_color-black__5LYEn')\n",
    "                    avis.append(avis_element.text.strip() if avis_element else '')\n",
    "\n",
    "                    # Date de l'expérience du client\n",
    "                    date_experience_element = commentaire.find('p', class_='typography_body-m__xgxZ_ typography_appearance-default__AAY17')\n",
    "                    date_experience.append(date_experience_element.text.strip() if date_experience_element else '')\n",
    "                    \n",
    "                    # Nombre d'avis du client\n",
    "                    nbre_commentaires_element = commentaire.find('span', class_='typography_body-m__xgxZ_ typography_appearance-subtle__8_H2l')\n",
    "                    nbre_commentaires.append(nbre_commentaires_element.text.strip() if nbre_commentaires_element else '')\n",
    "                    \n",
    "                    # Pays du client\n",
    "                    pays_element = commentaire.find('div', class_='typography_body-m__xgxZ_ typography_appearance-subtle__8_H2l styles_detailsIcon__Fo_ua')\n",
    "                    pays.append(pays_element.text.strip() if pays_element else '')\n",
    "                    \n",
    "            else:\n",
    "                print('Erreur lors de la récupération de la page', page, ':', reponse.status_code)\n",
    "\n",
    "        df = pd.DataFrame({'Nom / Pseudo' : nom_pseudo,\n",
    "                           'Date de publication' : date_publication,\n",
    "                           'Note' : note,\n",
    "                           'Titre' : titre,\n",
    "                           'Avis' : avis,\n",
    "                           'Date de l\\'expérience' : date_experience,\n",
    "                           'Nombre de commentaires' : nbre_commentaires,\n",
    "                           'Pays' : pays})\n",
    "        match = re.search(r'/review/(?:www\\.)?(.*?)\\.', url)\n",
    "        df['Banque'] = match.group(1)\n",
    "        df.to_csv('../csv/scraping_commentaires_' + match.group(1) + '.csv', index = False)\n",
    "        return df\n",
    "  \n",
    "    else:\n",
    "        print('Erreur lors de la récupération de la 1ère page :', reponse.status_code)\n"
   ]
  },
  {
   "cell_type": "code",
   "execution_count": null,
   "id": "350d92ac",
   "metadata": {},
   "outputs": [],
   "source": [
    "scraping_commentaires(\"https://fr.trustpilot.com/review/hellobank.fr\")"
   ]
  },
  {
   "cell_type": "code",
   "execution_count": null,
   "id": "8c853316",
   "metadata": {},
   "outputs": [],
   "source": [
    "df_boursobank = pd.read_csv('scraping_commentaires_boursobank.csv')\n",
    "df_boursobank.shape"
   ]
  },
  {
   "cell_type": "code",
   "execution_count": null,
   "id": "7271f2f1",
   "metadata": {},
   "outputs": [],
   "source": [
    "df_fortuneo = pd.read_csv('scraping_commentaires_fortuneo.csv')\n",
    "df_fortuneo.shape"
   ]
  },
  {
   "cell_type": "code",
   "execution_count": null,
   "id": "47a494b2",
   "metadata": {},
   "outputs": [],
   "source": [
    "df_monabanq = pd.read_csv('scraping_commentaires_monabanq.csv')\n",
    "df_monabanq.shape"
   ]
  },
  {
   "cell_type": "code",
   "execution_count": null,
   "id": "18c4e8e7",
   "metadata": {},
   "outputs": [],
   "source": [
    "df_hellobank = pd.read_csv('scraping_commentaires_hellobank.csv')\n",
    "df_hellobank.shape"
   ]
  },
  {
   "cell_type": "code",
   "execution_count": null,
   "id": "1cb0d6cc",
   "metadata": {},
   "outputs": [],
   "source": [
    "df_total = pd.concat(objs = [df_boursobank, df_fortuneo, df_monabanq, df_hellobank], axis = 0, ignore_index = True)\n",
    "df_total.shape"
   ]
  },
  {
   "cell_type": "code",
   "execution_count": null,
   "id": "9ab9b5a3",
   "metadata": {},
   "outputs": [],
   "source": [
    "df_total.to_csv('../csv/scraping_commentaires_4_banques.csv', index = False)"
   ]
  },
  {
   "cell_type": "code",
   "execution_count": null,
   "id": "7fd9804f",
   "metadata": {},
   "outputs": [],
   "source": [
    "#Code suplementaire pour enregister les données \n",
    "# Enregistrer le DataFrame dans un fichier CSV\n",
    "df.to_csv('../csv/comments_data_boursobank.csv', index=False)"
   ]
  }
 ],
 "metadata": {
  "kernelspec": {
   "display_name": "Python 3 (ipykernel)",
   "language": "python",
   "name": "python3"
  },
  "language_info": {
   "codemirror_mode": {
    "name": "ipython",
    "version": 3
   },
   "file_extension": ".py",
   "mimetype": "text/x-python",
   "name": "python",
   "nbconvert_exporter": "python",
   "pygments_lexer": "ipython3",
   "version": "3.9.6"
  }
 },
 "nbformat": 4,
 "nbformat_minor": 5
}
